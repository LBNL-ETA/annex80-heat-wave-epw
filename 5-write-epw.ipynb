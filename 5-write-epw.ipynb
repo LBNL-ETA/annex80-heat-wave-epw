{
 "cells": [
  {
   "cell_type": "code",
   "execution_count": 1,
   "metadata": {},
   "outputs": [],
   "source": [
    "import os, sys, csv, json, re\n",
    "import numpy as np\n",
    "import pandas as pd"
   ]
  },
  {
   "cell_type": "code",
   "execution_count": 2,
   "metadata": {},
   "outputs": [],
   "source": [
    "import datetime as dt\n",
    "import psychropy\n",
    "\n",
    "# YEAR = 'TMY'\n",
    "START_MON = '1'\n",
    "START_DAY = '1'\n",
    "END_MON = '12'\n",
    "END_DAY = '31'\n",
    "\n",
    "# Input and output file location\n",
    "# location = 'LA'\n",
    "LOC_WEATHER_FILE = 'USA_CA_Los.Angeles.Intl.AP.722950_TMY3.epw'\n",
    "\n",
    "CSV_FILE = os.path.join('future_weather', 'LA_HEATWAVES', 'LA_HW_Midterm_MostSevere_2051.csv')\n",
    "EPW_FILE = os.path.join('future_weather', 'LA_HEATWAVES', 'LA_HW_Midterm_MostSevere_2051.epw')\n",
    "csv_headers_epw_map = {6: 'tas', 7:'dew', 8:'hurs', 9:'ps', \n",
    "                       13: 'global_hori', 14: 'dir_norm', 15: 'dif_hori', 20:'wind_dir', 21:'sfcWind'}\n",
    "days_in_mon = {1:31, 2:28, 3:31, 4:30, 5:31, 6:30, 7:31, 8:31, 9:30, 10:31, 11:30, 12:31}"
   ]
  },
  {
   "cell_type": "code",
   "execution_count": 3,
   "metadata": {},
   "outputs": [],
   "source": [
    "df_csv_result = pd.read_csv(CSV_FILE, sep=',', index_col=0, parse_dates=True, infer_datetime_format=True, encoding='UTF-8')"
   ]
  },
  {
   "cell_type": "code",
   "execution_count": 4,
   "metadata": {},
   "outputs": [
    {
     "data": {
      "text/html": [
       "<div>\n",
       "<style scoped>\n",
       "    .dataframe tbody tr th:only-of-type {\n",
       "        vertical-align: middle;\n",
       "    }\n",
       "\n",
       "    .dataframe tbody tr th {\n",
       "        vertical-align: top;\n",
       "    }\n",
       "\n",
       "    .dataframe thead th {\n",
       "        text-align: right;\n",
       "    }\n",
       "</style>\n",
       "<table border=\"1\" class=\"dataframe\">\n",
       "  <thead>\n",
       "    <tr style=\"text-align: right;\">\n",
       "      <th></th>\n",
       "      <th>tas</th>\n",
       "      <th>ps</th>\n",
       "      <th>hurs</th>\n",
       "      <th>sfcWind</th>\n",
       "      <th>rsds</th>\n",
       "      <th>wind_dir</th>\n",
       "      <th>dir_norm</th>\n",
       "      <th>dif_hori</th>\n",
       "      <th>dir_hori</th>\n",
       "    </tr>\n",
       "    <tr>\n",
       "      <th>time_lst</th>\n",
       "      <th></th>\n",
       "      <th></th>\n",
       "      <th></th>\n",
       "      <th></th>\n",
       "      <th></th>\n",
       "      <th></th>\n",
       "      <th></th>\n",
       "      <th></th>\n",
       "      <th></th>\n",
       "    </tr>\n",
       "  </thead>\n",
       "  <tbody>\n",
       "    <tr>\n",
       "      <th>2051-01-01 00:00:00</th>\n",
       "      <td>8.519762</td>\n",
       "      <td>100580.5058</td>\n",
       "      <td>100.000000</td>\n",
       "      <td>4.000106</td>\n",
       "      <td>0.059571</td>\n",
       "      <td>218</td>\n",
       "      <td>0.0</td>\n",
       "      <td>0.059571</td>\n",
       "      <td>0.0</td>\n",
       "    </tr>\n",
       "    <tr>\n",
       "      <th>2051-01-01 01:00:00</th>\n",
       "      <td>9.343634</td>\n",
       "      <td>100533.6172</td>\n",
       "      <td>100.000000</td>\n",
       "      <td>3.100304</td>\n",
       "      <td>0.057487</td>\n",
       "      <td>207</td>\n",
       "      <td>0.0</td>\n",
       "      <td>0.057487</td>\n",
       "      <td>0.0</td>\n",
       "    </tr>\n",
       "    <tr>\n",
       "      <th>2051-01-01 02:00:00</th>\n",
       "      <td>9.258816</td>\n",
       "      <td>100582.3291</td>\n",
       "      <td>100.000000</td>\n",
       "      <td>2.238655</td>\n",
       "      <td>0.092862</td>\n",
       "      <td>204</td>\n",
       "      <td>0.0</td>\n",
       "      <td>0.092862</td>\n",
       "      <td>0.0</td>\n",
       "    </tr>\n",
       "    <tr>\n",
       "      <th>2051-01-01 03:00:00</th>\n",
       "      <td>9.287439</td>\n",
       "      <td>100583.2111</td>\n",
       "      <td>95.082580</td>\n",
       "      <td>1.785613</td>\n",
       "      <td>0.050764</td>\n",
       "      <td>265</td>\n",
       "      <td>0.0</td>\n",
       "      <td>0.050764</td>\n",
       "      <td>0.0</td>\n",
       "    </tr>\n",
       "    <tr>\n",
       "      <th>2051-01-01 04:00:00</th>\n",
       "      <td>10.286558</td>\n",
       "      <td>100583.1368</td>\n",
       "      <td>92.628751</td>\n",
       "      <td>1.444499</td>\n",
       "      <td>0.068279</td>\n",
       "      <td>218</td>\n",
       "      <td>0.0</td>\n",
       "      <td>0.068279</td>\n",
       "      <td>0.0</td>\n",
       "    </tr>\n",
       "  </tbody>\n",
       "</table>\n",
       "</div>"
      ],
      "text/plain": [
       "                           tas           ps        hurs   sfcWind      rsds  \\\n",
       "time_lst                                                                      \n",
       "2051-01-01 00:00:00   8.519762  100580.5058  100.000000  4.000106  0.059571   \n",
       "2051-01-01 01:00:00   9.343634  100533.6172  100.000000  3.100304  0.057487   \n",
       "2051-01-01 02:00:00   9.258816  100582.3291  100.000000  2.238655  0.092862   \n",
       "2051-01-01 03:00:00   9.287439  100583.2111   95.082580  1.785613  0.050764   \n",
       "2051-01-01 04:00:00  10.286558  100583.1368   92.628751  1.444499  0.068279   \n",
       "\n",
       "                     wind_dir  dir_norm  dif_hori  dir_hori  \n",
       "time_lst                                                     \n",
       "2051-01-01 00:00:00       218       0.0  0.059571       0.0  \n",
       "2051-01-01 01:00:00       207       0.0  0.057487       0.0  \n",
       "2051-01-01 02:00:00       204       0.0  0.092862       0.0  \n",
       "2051-01-01 03:00:00       265       0.0  0.050764       0.0  \n",
       "2051-01-01 04:00:00       218       0.0  0.068279       0.0  "
      ]
     },
     "execution_count": 4,
     "metadata": {},
     "output_type": "execute_result"
    }
   ],
   "source": [
    "df_csv_result.head()"
   ]
  },
  {
   "cell_type": "code",
   "execution_count": 5,
   "metadata": {},
   "outputs": [
    {
     "data": {
      "text/plain": [
       "Index(['tas', 'ps', 'hurs', 'sfcWind', 'rsds', 'wind_dir', 'dir_norm',\n",
       "       'dif_hori', 'dir_hori'],\n",
       "      dtype='object')"
      ]
     },
     "execution_count": 5,
     "metadata": {},
     "output_type": "execute_result"
    }
   ],
   "source": [
    "df_csv_result.keys()"
   ]
  },
  {
   "cell_type": "code",
   "execution_count": 6,
   "metadata": {},
   "outputs": [],
   "source": [
    "# write EPW\n",
    "data_to_write = dict()\n",
    "for i, row in df_csv_result.iterrows():\n",
    "    row['hum_rat'] = psychropy.Hum_rat2(float(row['tas']), float(row['hurs']), float(row['ps']))\n",
    "    row['dew'] = psychropy.Dew_point(float(row['ps']), float(row['hum_rat']))\n",
    "    row['global_hori'] = row['dif_hori'] + row['dir_hori']\n",
    "    mon = i.month\n",
    "    day = i.day\n",
    "    hour = i.hour\n",
    "    year = i.year\n",
    "    row['year'] = year\n",
    "#     print(str(mon) + \"/\" + str(day) + \"/\" + year + ' ' +  str(hour) + ':00:00')\n",
    "    data_to_write[str(mon) + \"/\" + str(day) + \"/\" + str(hour)] = row"
   ]
  },
  {
   "cell_type": "code",
   "execution_count": 7,
   "metadata": {},
   "outputs": [
    {
     "data": {
      "text/plain": [
       "tas                 8.519762\n",
       "ps             100580.505800\n",
       "hurs              100.000000\n",
       "sfcWind             4.000106\n",
       "rsds                0.059571\n",
       "wind_dir          218.000000\n",
       "dir_norm            0.000000\n",
       "dif_hori            0.059571\n",
       "dir_hori            0.000000\n",
       "hum_rat             0.000688\n",
       "dew               102.446306\n",
       "global_hori         0.059571\n",
       "year             2051.000000\n",
       "Name: 2051-01-01 00:00:00, dtype: float64"
      ]
     },
     "execution_count": 7,
     "metadata": {},
     "output_type": "execute_result"
    }
   ],
   "source": [
    "data_to_write['1/1/0']"
   ]
  },
  {
   "cell_type": "code",
   "execution_count": 8,
   "metadata": {},
   "outputs": [
    {
     "name": "stdout",
     "output_type": "stream",
     "text": [
      "13/1/0 not found.\n"
     ]
    }
   ],
   "source": [
    "import math\n",
    "f = open(EPW_FILE, 'w')\n",
    "\n",
    "with open(LOC_WEATHER_FILE, newline='') as csvfile:\n",
    "    csvreader = csv.reader(csvfile, delimiter=',', quotechar='|')\n",
    "    for row in csvreader:\n",
    "        if (len(row) == 35):\n",
    "            mon = row[1]\n",
    "            day = row[2]\n",
    "            hour = row[3]\n",
    "            minute = row[4]\n",
    "            # parse 8/1/18 0:00 to 7/31/18 24:00\n",
    "            if int(hour) == 24:\n",
    "                hour = 0\n",
    "                if int(day) == days_in_mon[int(mon)]:\n",
    "                    mon = int(mon) + 1\n",
    "                    day = 1\n",
    "                else:\n",
    "                    day = int(day) + 1\n",
    "\n",
    "            # Notes: The format of the CSV time stamp\n",
    "            cur_time_stamp = str(mon) + \"/\" + str(day) + \"/\" + str(hour)\n",
    "            if cur_time_stamp in data_to_write:\n",
    "                cur_data_to_write = data_to_write[cur_time_stamp]\n",
    "                row[0] = str(cur_data_to_write['year'])\n",
    "\n",
    "                for epw_col in csv_headers_epw_map:\n",
    "                    if csv_headers_epw_map[epw_col] in cur_data_to_write:\n",
    "                        try:\n",
    "                            row[epw_col] = str(round(cur_data_to_write[csv_headers_epw_map[epw_col]], 3))\n",
    "                        except:\n",
    "                            row[epw_col] = str(cur_data_to_write[csv_headers_epw_map[epw_col]])\n",
    "            else:\n",
    "                print(cur_time_stamp + ' not found.')\n",
    "        f.write(','.join(row) + '\\n')\n",
    "\n",
    "f.close()"
   ]
  },
  {
   "cell_type": "code",
   "execution_count": null,
   "metadata": {},
   "outputs": [],
   "source": []
  }
 ],
 "metadata": {
  "kernelspec": {
   "display_name": "Python 3",
   "language": "python",
   "name": "python3"
  },
  "language_info": {
   "codemirror_mode": {
    "name": "ipython",
    "version": 3
   },
   "file_extension": ".py",
   "mimetype": "text/x-python",
   "name": "python",
   "nbconvert_exporter": "python",
   "pygments_lexer": "ipython3",
   "version": "3.8.3"
  },
  "toc": {
   "base_numbering": 1,
   "nav_menu": {},
   "number_sections": true,
   "sideBar": true,
   "skip_h1_title": false,
   "title_cell": "Table of Contents",
   "title_sidebar": "Contents",
   "toc_cell": false,
   "toc_position": {},
   "toc_section_display": true,
   "toc_window_display": false
  }
 },
 "nbformat": 4,
 "nbformat_minor": 2
}
